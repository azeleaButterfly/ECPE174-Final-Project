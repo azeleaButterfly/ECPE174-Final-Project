{
 "cells": [
  {
   "cell_type": "code",
   "execution_count": null,
   "metadata": {},
   "outputs": [],
   "source": [
    "from matplotlib import pyplot as plt\n",
    "from collections import Counter\n",
    "dist = open(\"xor_test_output_fixed.txt\", \"r\")\n",
    "newdist = []\n",
    "for line in dist:\n",
    "    a = line.split(\",\")\n",
    "    for val in a:\n",
    "        \n",
    "        newdist.append(int(val))\n",
    "plt.hist(newdist,4, edgecolor= 'black')\n",
    "plt.xlabel('Generated Value')\n",
    "plt.ylabel('Count')\n",
    "plt.xticks([0,1,2,3])\n",
    "plt.show()\n",
    "counts = Counter(newdist)\n",
    "print(counts)\n",
    "\n",
    "\n"
   ]
  },
  {
   "cell_type": "code",
   "execution_count": null,
   "metadata": {},
   "outputs": [
    {
     "name": "stdout",
     "output_type": "stream",
     "text": [
      "52515133\n"
     ]
    }
   ],
   "source": [
    "print(counts[1] + counts[2] + counts[3] + counts[0])"
   ]
  }
 ],
 "metadata": {
  "kernelspec": {
   "display_name": "Python 3",
   "language": "python",
   "name": "python3"
  },
  "language_info": {
   "codemirror_mode": {
    "name": "ipython",
    "version": 3
   },
   "file_extension": ".py",
   "mimetype": "text/x-python",
   "name": "python",
   "nbconvert_exporter": "python",
   "pygments_lexer": "ipython3",
   "version": "3.10.12"
  }
 },
 "nbformat": 4,
 "nbformat_minor": 2
}
